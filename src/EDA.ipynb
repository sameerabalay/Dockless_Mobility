{
 "cells": [
  {
   "cell_type": "code",
   "execution_count": 1,
   "metadata": {},
   "outputs": [],
   "source": [
    "import pandas as pd\n",
    "import numpy as np\n",
    "\n",
    "from eda_utilities import print_eda_stats"
   ]
  },
  {
   "cell_type": "markdown",
   "metadata": {},
   "source": [
    "### Read the Dockless Mobility data and run basic null data analysis. \n",
    "##### Dockless mobility data is located on the s3 bucket at https://s3.amazonaws.com/sameera-bucket-1/dockless_mobility/raw_data/Austin_Dockless_Vehicle_Trips.csv\n",
    "##### Weather data is located on the s3 bucket at https://s3.amazonaws.com/sameera-bucket-1/dockless_mobility/raw_data/Austin_Bergstom_Airport_Weather.csv"
   ]
  },
  {
   "cell_type": "code",
   "execution_count": 2,
   "metadata": {},
   "outputs": [
    {
     "name": "stderr",
     "output_type": "stream",
     "text": [
      "/anaconda3/lib/python3.6/site-packages/IPython/core/interactiveshell.py:2785: DtypeWarning: Columns (13) have mixed types. Specify dtype option on import or set low_memory=False.\n",
      "  interactivity=interactivity, compiler=compiler, result=result)\n"
     ]
    }
   ],
   "source": [
    "df = pd.read_csv(\"https://s3.amazonaws.com/sameera-bucket-1/dockless_mobility/raw_data/Austin_Dockless_Vehicle_Trips.csv\")"
   ]
  },
  {
   "cell_type": "code",
   "execution_count": 4,
   "metadata": {},
   "outputs": [
    {
     "data": {
      "text/plain": [
       "Index(['ID', 'Device ID', 'Vehicle Type', 'Trip Duration', 'Trip Distance',\n",
       "       'Start Time', 'End Time', 'Modified Date', 'Month', 'Hour',\n",
       "       'Day of Week', 'Council District (Start)', 'Council District (End)',\n",
       "       'Origin Cell ID', 'Destination Cell ID', 'Year', 'Start Latitude',\n",
       "       'Start Longitude', 'End Latitude', 'End Longitude'],\n",
       "      dtype='object')"
      ]
     },
     "execution_count": 4,
     "metadata": {},
     "output_type": "execute_result"
    }
   ],
   "source": [
    "dockless_vehicles_columns = df.columns"
   ]
  },
  {
   "cell_type": "code",
   "execution_count": 6,
   "metadata": {},
   "outputs": [
    {
     "name": "stdout",
     "output_type": "stream",
     "text": [
      "<class 'pandas.core.frame.DataFrame'>\n",
      "RangeIndex: 2746505 entries, 0 to 2746504\n",
      "Data columns (total 20 columns):\n",
      "ID                          object\n",
      "Device ID                   object\n",
      "Vehicle Type                object\n",
      "Trip Duration               float64\n",
      "Trip Distance               float64\n",
      "Start Time                  object\n",
      "End Time                    object\n",
      "Modified Date               object\n",
      "Month                       float64\n",
      "Hour                        float64\n",
      "Day of Week                 float64\n",
      "Council District (Start)    float64\n",
      "Council District (End)      float64\n",
      "Origin Cell ID              object\n",
      "Destination Cell ID         object\n",
      "Year                        float64\n",
      "Start Latitude              float64\n",
      "Start Longitude             float64\n",
      "End Latitude                float64\n",
      "End Longitude               float64\n",
      "dtypes: float64(12), object(8)\n",
      "memory usage: 419.1+ MB\n"
     ]
    }
   ],
   "source": [
    "df.info()"
   ]
  },
  {
   "cell_type": "code",
   "execution_count": 8,
   "metadata": {},
   "outputs": [
    {
     "name": "stdout",
     "output_type": "stream",
     "text": [
      "+--------------------------+---------+-------------+---------------+--------------+\n",
      "|       Column Name        |  dtype  | Total_Count | Unique_Values | df_totalrows |\n",
      "+--------------------------+---------+-------------+---------------+--------------+\n",
      "|            ID            |  object |   2746505   |    2746505    |   2746505    |\n",
      "|        Device ID         |  object |   2746505   |     26999     |   2746505    |\n",
      "|       Vehicle Type       |  object |   2746504   |       3       |   2746505    |\n",
      "|      Trip Duration       | float64 |   2746504   |     10521     |   2746505    |\n",
      "|      Trip Distance       | float64 |   2746504   |     16125     |   2746505    |\n",
      "|        Start Time        |  object |   2746504   |     25694     |   2746505    |\n",
      "|         End Time         |  object |   2746504   |     25768     |   2746505    |\n",
      "|      Modified Date       |  object |   2746505   |     27881     |   2746505    |\n",
      "|          Month           | float64 |   2746504   |       12      |   2746505    |\n",
      "|           Hour           | float64 |   2746504   |       25      |   2746505    |\n",
      "|       Day of Week        | float64 |   2746504   |       8       |   2746505    |\n",
      "| Council District (Start) | float64 |   2746474   |       12      |   2746505    |\n",
      "|  Council District (End)  | float64 |   2746474   |       12      |   2746505    |\n",
      "|      Origin Cell ID      |  object |   2744417   |      7262     |   2746505    |\n",
      "|   Destination Cell ID    |  object |   2744417   |      5185     |   2746505    |\n",
      "|           Year           | float64 |   2746504   |       3       |   2746505    |\n",
      "|      Start Latitude      | float64 |   2713821   |      442      |   2746505    |\n",
      "|     Start Longitude      | float64 |   2713821   |      386      |   2746505    |\n",
      "|       End Latitude       | float64 |   2724693   |      637      |   2746505    |\n",
      "|      End Longitude       | float64 |   2724693   |      593      |   2746505    |\n",
      "+--------------------------+---------+-------------+---------------+--------------+\n"
     ]
    }
   ],
   "source": [
    "print_eda_stats(df, dockless_vehicles_columns)"
   ]
  },
  {
   "cell_type": "code",
   "execution_count": 9,
   "metadata": {},
   "outputs": [
    {
     "data": {
      "text/html": [
       "<div>\n",
       "<style scoped>\n",
       "    .dataframe tbody tr th:only-of-type {\n",
       "        vertical-align: middle;\n",
       "    }\n",
       "\n",
       "    .dataframe tbody tr th {\n",
       "        vertical-align: top;\n",
       "    }\n",
       "\n",
       "    .dataframe thead th {\n",
       "        text-align: right;\n",
       "    }\n",
       "</style>\n",
       "<table border=\"1\" class=\"dataframe\">\n",
       "  <thead>\n",
       "    <tr style=\"text-align: right;\">\n",
       "      <th></th>\n",
       "      <th>count</th>\n",
       "      <th>mean</th>\n",
       "      <th>std</th>\n",
       "      <th>min</th>\n",
       "      <th>25%</th>\n",
       "      <th>50%</th>\n",
       "      <th>75%</th>\n",
       "      <th>max</th>\n",
       "    </tr>\n",
       "  </thead>\n",
       "  <tbody>\n",
       "    <tr>\n",
       "      <th>Trip Duration</th>\n",
       "      <td>2746504.0</td>\n",
       "      <td>671.94</td>\n",
       "      <td>7441.55</td>\n",
       "      <td>-86161.00</td>\n",
       "      <td>221.00</td>\n",
       "      <td>388.00</td>\n",
       "      <td>753.00</td>\n",
       "      <td>1.149160e+07</td>\n",
       "    </tr>\n",
       "    <tr>\n",
       "      <th>Trip Distance</th>\n",
       "      <td>2746504.0</td>\n",
       "      <td>58032.67</td>\n",
       "      <td>10421635.18</td>\n",
       "      <td>-16724106.00</td>\n",
       "      <td>343.00</td>\n",
       "      <td>887.00</td>\n",
       "      <td>1738.00</td>\n",
       "      <td>2.147484e+09</td>\n",
       "    </tr>\n",
       "    <tr>\n",
       "      <th>Month</th>\n",
       "      <td>2746504.0</td>\n",
       "      <td>8.23</td>\n",
       "      <td>3.50</td>\n",
       "      <td>1.00</td>\n",
       "      <td>7.00</td>\n",
       "      <td>9.00</td>\n",
       "      <td>11.00</td>\n",
       "      <td>1.200000e+01</td>\n",
       "    </tr>\n",
       "    <tr>\n",
       "      <th>Hour</th>\n",
       "      <td>2746504.0</td>\n",
       "      <td>14.44</td>\n",
       "      <td>4.38</td>\n",
       "      <td>0.00</td>\n",
       "      <td>12.00</td>\n",
       "      <td>15.00</td>\n",
       "      <td>18.00</td>\n",
       "      <td>2.300000e+01</td>\n",
       "    </tr>\n",
       "    <tr>\n",
       "      <th>Day of Week</th>\n",
       "      <td>2746504.0</td>\n",
       "      <td>3.17</td>\n",
       "      <td>2.06</td>\n",
       "      <td>0.00</td>\n",
       "      <td>1.00</td>\n",
       "      <td>3.00</td>\n",
       "      <td>5.00</td>\n",
       "      <td>6.000000e+00</td>\n",
       "    </tr>\n",
       "    <tr>\n",
       "      <th>Council District (Start)</th>\n",
       "      <td>2746474.0</td>\n",
       "      <td>7.73</td>\n",
       "      <td>2.65</td>\n",
       "      <td>0.00</td>\n",
       "      <td>9.00</td>\n",
       "      <td>9.00</td>\n",
       "      <td>9.00</td>\n",
       "      <td>1.000000e+01</td>\n",
       "    </tr>\n",
       "    <tr>\n",
       "      <th>Council District (End)</th>\n",
       "      <td>2746474.0</td>\n",
       "      <td>7.68</td>\n",
       "      <td>2.67</td>\n",
       "      <td>0.00</td>\n",
       "      <td>9.00</td>\n",
       "      <td>9.00</td>\n",
       "      <td>9.00</td>\n",
       "      <td>1.000000e+01</td>\n",
       "    </tr>\n",
       "    <tr>\n",
       "      <th>Year</th>\n",
       "      <td>2746504.0</td>\n",
       "      <td>2018.16</td>\n",
       "      <td>0.37</td>\n",
       "      <td>2018.00</td>\n",
       "      <td>2018.00</td>\n",
       "      <td>2018.00</td>\n",
       "      <td>2018.00</td>\n",
       "      <td>2.019000e+03</td>\n",
       "    </tr>\n",
       "    <tr>\n",
       "      <th>Start Latitude</th>\n",
       "      <td>2713821.0</td>\n",
       "      <td>30.19</td>\n",
       "      <td>1.60</td>\n",
       "      <td>0.00</td>\n",
       "      <td>30.26</td>\n",
       "      <td>30.27</td>\n",
       "      <td>30.28</td>\n",
       "      <td>8.229000e+01</td>\n",
       "    </tr>\n",
       "    <tr>\n",
       "      <th>Start Longitude</th>\n",
       "      <td>2713821.0</td>\n",
       "      <td>-97.45</td>\n",
       "      <td>5.45</td>\n",
       "      <td>-122.68</td>\n",
       "      <td>-97.75</td>\n",
       "      <td>-97.74</td>\n",
       "      <td>-97.74</td>\n",
       "      <td>1.141300e+02</td>\n",
       "    </tr>\n",
       "    <tr>\n",
       "      <th>End Latitude</th>\n",
       "      <td>2724693.0</td>\n",
       "      <td>30.19</td>\n",
       "      <td>1.61</td>\n",
       "      <td>-43.52</td>\n",
       "      <td>30.26</td>\n",
       "      <td>30.27</td>\n",
       "      <td>30.28</td>\n",
       "      <td>5.224000e+01</td>\n",
       "    </tr>\n",
       "    <tr>\n",
       "      <th>End Longitude</th>\n",
       "      <td>2724693.0</td>\n",
       "      <td>-97.45</td>\n",
       "      <td>5.50</td>\n",
       "      <td>-122.68</td>\n",
       "      <td>-97.75</td>\n",
       "      <td>-97.74</td>\n",
       "      <td>-97.74</td>\n",
       "      <td>1.750300e+02</td>\n",
       "    </tr>\n",
       "  </tbody>\n",
       "</table>\n",
       "</div>"
      ],
      "text/plain": [
       "                              count      mean          std          min      25%      50%      75%           max\n",
       "Trip Duration             2746504.0    671.94      7441.55    -86161.00   221.00   388.00   753.00  1.149160e+07\n",
       "Trip Distance             2746504.0  58032.67  10421635.18 -16724106.00   343.00   887.00  1738.00  2.147484e+09\n",
       "Month                     2746504.0      8.23         3.50         1.00     7.00     9.00    11.00  1.200000e+01\n",
       "Hour                      2746504.0     14.44         4.38         0.00    12.00    15.00    18.00  2.300000e+01\n",
       "Day of Week               2746504.0      3.17         2.06         0.00     1.00     3.00     5.00  6.000000e+00\n",
       "Council District (Start)  2746474.0      7.73         2.65         0.00     9.00     9.00     9.00  1.000000e+01\n",
       "Council District (End)    2746474.0      7.68         2.67         0.00     9.00     9.00     9.00  1.000000e+01\n",
       "Year                      2746504.0   2018.16         0.37      2018.00  2018.00  2018.00  2018.00  2.019000e+03\n",
       "Start Latitude            2713821.0     30.19         1.60         0.00    30.26    30.27    30.28  8.229000e+01\n",
       "Start Longitude           2713821.0    -97.45         5.45      -122.68   -97.75   -97.74   -97.74  1.141300e+02\n",
       "End Latitude              2724693.0     30.19         1.61       -43.52    30.26    30.27    30.28  5.224000e+01\n",
       "End Longitude             2724693.0    -97.45         5.50      -122.68   -97.75   -97.74   -97.74  1.750300e+02"
      ]
     },
     "execution_count": 9,
     "metadata": {},
     "output_type": "execute_result"
    }
   ],
   "source": [
    "#WITH FOUR DECIMAL PLACES (DEFAULT)\n",
    "df.describe().transpose().to_csv('summary_stats.csv', sep=',')\n",
    "\n",
    "np.round(df.describe(), 2).T"
   ]
  },
  {
   "cell_type": "code",
   "execution_count": null,
   "metadata": {},
   "outputs": [],
   "source": []
  }
 ],
 "metadata": {
  "kernelspec": {
   "display_name": "Python 3",
   "language": "python",
   "name": "python3"
  },
  "language_info": {
   "codemirror_mode": {
    "name": "ipython",
    "version": 3
   },
   "file_extension": ".py",
   "mimetype": "text/x-python",
   "name": "python",
   "nbconvert_exporter": "python",
   "pygments_lexer": "ipython3",
   "version": "3.6.5"
  }
 },
 "nbformat": 4,
 "nbformat_minor": 2
}
